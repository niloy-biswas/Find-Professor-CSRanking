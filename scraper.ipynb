{
 "cells": [
  {
   "attachments": {},
   "cell_type": "markdown",
   "metadata": {},
   "source": [
    "## 1. Access the Google Sheet Complete"
   ]
  },
  {
   "cell_type": "code",
   "execution_count": 5,
   "metadata": {},
   "outputs": [],
   "source": [
    "import gspread \n",
    "from oauth2client.service_account import ServiceAccountCredentials\n",
    "import pandas as pd\n",
    "# from mysql import connector\n",
    "import numpy as np\n",
    "import traceback\n",
    "from datetime import datetime, timedelta\n",
    "import time"
   ]
  },
  {
   "cell_type": "code",
   "execution_count": 19,
   "metadata": {},
   "outputs": [],
   "source": [
    "scope= ['https://spreadsheets.google.com/feeds']\n",
    "creds = ServiceAccountCredentials.from_json_keyfile_name('our-sign-312610-36119a9d9e84.json', scope)\n",
    "client = gspread.authorize(creds)"
   ]
  },
  {
   "cell_type": "code",
   "execution_count": 22,
   "metadata": {},
   "outputs": [],
   "source": [
    "sheet_ID= '1uThYmBCT17XTeRJBffZ3ddLSM1DNtZnOliMIB_nDvVM'\n",
    "sheet = client.open_by_key(sheet_ID).get_worksheet(2)\n"
   ]
  },
  {
   "cell_type": "code",
   "execution_count": 23,
   "metadata": {},
   "outputs": [
    {
     "data": {
      "text/html": [
       "<div>\n",
       "<style scoped>\n",
       "    .dataframe tbody tr th:only-of-type {\n",
       "        vertical-align: middle;\n",
       "    }\n",
       "\n",
       "    .dataframe tbody tr th {\n",
       "        vertical-align: top;\n",
       "    }\n",
       "\n",
       "    .dataframe thead th {\n",
       "        text-align: right;\n",
       "    }\n",
       "</style>\n",
       "<table border=\"1\" class=\"dataframe\">\n",
       "  <thead>\n",
       "    <tr style=\"text-align: right;\">\n",
       "      <th></th>\n",
       "      <th>Country</th>\n",
       "      <th>University</th>\n",
       "      <th>Rank</th>\n",
       "      <th>GRE ?</th>\n",
       "      <th>IELTS</th>\n",
       "      <th>Application Deadline</th>\n",
       "      <th>Application Fee</th>\n",
       "      <th>Professor</th>\n",
       "      <th>Site</th>\n",
       "      <th>Email</th>\n",
       "      <th>First email</th>\n",
       "    </tr>\n",
       "  </thead>\n",
       "  <tbody>\n",
       "    <tr>\n",
       "      <th>0</th>\n",
       "      <td></td>\n",
       "      <td></td>\n",
       "      <td></td>\n",
       "      <td></td>\n",
       "      <td></td>\n",
       "      <td></td>\n",
       "      <td></td>\n",
       "      <td></td>\n",
       "      <td></td>\n",
       "      <td></td>\n",
       "      <td></td>\n",
       "    </tr>\n",
       "    <tr>\n",
       "      <th>1</th>\n",
       "      <td>Australia</td>\n",
       "      <td>Monash University</td>\n",
       "      <td></td>\n",
       "      <td></td>\n",
       "      <td></td>\n",
       "      <td></td>\n",
       "      <td></td>\n",
       "      <td>Wray Buntine</td>\n",
       "      <td>https://research.monash.edu/en/persons/wray-bu...</td>\n",
       "      <td>Wray.Buntine@monash.edu</td>\n",
       "      <td></td>\n",
       "    </tr>\n",
       "    <tr>\n",
       "      <th>2</th>\n",
       "      <td></td>\n",
       "      <td></td>\n",
       "      <td></td>\n",
       "      <td></td>\n",
       "      <td></td>\n",
       "      <td></td>\n",
       "      <td></td>\n",
       "      <td>Geoff Webb</td>\n",
       "      <td>http://i.giwebb.com/</td>\n",
       "      <td>geoff.webb@monash.edu</td>\n",
       "      <td></td>\n",
       "    </tr>\n",
       "    <tr>\n",
       "      <th>3</th>\n",
       "      <td></td>\n",
       "      <td></td>\n",
       "      <td></td>\n",
       "      <td></td>\n",
       "      <td></td>\n",
       "      <td></td>\n",
       "      <td></td>\n",
       "      <td>Mark James Carman</td>\n",
       "      <td>https://users.monash.edu.au/~mcarman/</td>\n",
       "      <td>mark.carman@monash.edu</td>\n",
       "      <td></td>\n",
       "    </tr>\n",
       "  </tbody>\n",
       "</table>\n",
       "</div>"
      ],
      "text/plain": [
       "      Country         University Rank GRE ? IELTS Application Deadline  \\\n",
       "0                                                                        \n",
       "1  Australia   Monash University                                         \n",
       "2                                                                        \n",
       "3                                                                        \n",
       "\n",
       "  Application Fee          Professor  \\\n",
       "0                                      \n",
       "1                       Wray Buntine   \n",
       "2                         Geoff Webb   \n",
       "3                  Mark James Carman   \n",
       "\n",
       "                                                Site                    Email  \\\n",
       "0                                                                               \n",
       "1  https://research.monash.edu/en/persons/wray-bu...  Wray.Buntine@monash.edu   \n",
       "2                               http://i.giwebb.com/    geoff.webb@monash.edu   \n",
       "3              https://users.monash.edu.au/~mcarman/   mark.carman@monash.edu   \n",
       "\n",
       "  First email  \n",
       "0              \n",
       "1              \n",
       "2              \n",
       "3              "
      ]
     },
     "execution_count": 23,
     "metadata": {},
     "output_type": "execute_result"
    }
   ],
   "source": [
    "new_data= sheet.get_all_records()\n",
    "new_df=pd.DataFrame(new_data)\n",
    "new_df"
   ]
  },
  {
   "attachments": {},
   "cell_type": "markdown",
   "metadata": {},
   "source": [
    "# 2. Scraper"
   ]
  },
  {
   "cell_type": "code",
   "execution_count": 24,
   "metadata": {},
   "outputs": [],
   "source": [
    "\n",
    "from selenium import webdriver\n",
    "from selenium.webdriver.common.by import By\n",
    "from webdriver_manager.chrome import ChromeDriverManager\n",
    "from selenium.webdriver.support.ui import WebDriverWait\n",
    "import time\n",
    "from selenium.webdriver.support import expected_conditions as EC"
   ]
  },
  {
   "cell_type": "code",
   "execution_count": 28,
   "metadata": {},
   "outputs": [
    {
     "name": "stderr",
     "output_type": "stream",
     "text": [
      "\n",
      "\n",
      "====== WebDriver manager ======\n",
      "Current google-chrome version is 113.0.5672\n",
      "Get LATEST chromedriver version for 113.0.5672 google-chrome\n",
      "Driver [/Users/niloy/.wdm/drivers/chromedriver/mac64/113.0.5672.63/chromedriver] found in cache\n",
      "/var/folders/9_/59tchfjn2vx4w76nvh4w62580000gn/T/ipykernel_59944/1094839421.py:4: DeprecationWarning: executable_path has been deprecated, please pass in a Service object\n",
      "  driver = webdriver.Chrome(ChromeDriverManager().install(), options=options)\n"
     ]
    },
    {
     "name": "stdout",
     "output_type": "stream",
     "text": [
      "Loding Successful...!!\n"
     ]
    },
    {
     "ename": "TimeoutException",
     "evalue": "Message: \nStacktrace:\n0   chromedriver                        0x00000001027b8598 chromedriver + 4973976\n1   chromedriver                        0x00000001027af913 chromedriver + 4938003\n2   chromedriver                        0x000000010236ccd6 chromedriver + 470230\n3   chromedriver                        0x00000001023b02ff chromedriver + 746239\n4   chromedriver                        0x00000001023b0591 chromedriver + 746897\n5   chromedriver                        0x00000001023f2384 chromedriver + 1016708\n6   chromedriver                        0x00000001023d49ed chromedriver + 895469\n7   chromedriver                        0x00000001023ef856 chromedriver + 1005654\n8   chromedriver                        0x00000001023d4793 chromedriver + 894867\n9   chromedriver                        0x00000001023a221f chromedriver + 688671\n10  chromedriver                        0x00000001023a356e chromedriver + 693614\n11  chromedriver                        0x0000000102772bb7 chromedriver + 4688823\n12  chromedriver                        0x0000000102777a51 chromedriver + 4708945\n13  chromedriver                        0x000000010277e40f chromedriver + 4736015\n14  chromedriver                        0x000000010277891a chromedriver + 4712730\n15  chromedriver                        0x000000010274b87c chromedriver + 4528252\n16  chromedriver                        0x0000000102797f28 chromedriver + 4841256\n17  chromedriver                        0x00000001027980a7 chromedriver + 4841639\n18  chromedriver                        0x00000001027a928f chromedriver + 4911759\n19  libsystem_pthread.dylib             0x00007ff812a271d3 _pthread_start + 125\n20  libsystem_pthread.dylib             0x00007ff812a22bd3 thread_start + 15\n",
     "output_type": "error",
     "traceback": [
      "\u001b[0;31m---------------------------------------------------------------------------\u001b[0m",
      "\u001b[0;31mTimeoutException\u001b[0m                          Traceback (most recent call last)",
      "Cell \u001b[0;32mIn[28], line 35\u001b[0m\n\u001b[1;32m     32\u001b[0m url \u001b[39m=\u001b[39m \u001b[39m'\u001b[39m\u001b[39mhttps://csrankings.org/#/index?ai&vision&mlmining&us\u001b[39m\u001b[39m'\u001b[39m\n\u001b[1;32m     34\u001b[0m \u001b[39m# Call the function\u001b[39;00m\n\u001b[0;32m---> 35\u001b[0m startBot(url)\n",
      "Cell \u001b[0;32mIn[28], line 10\u001b[0m, in \u001b[0;36mstartBot\u001b[0;34m(url)\u001b[0m\n\u001b[1;32m      7\u001b[0m driver\u001b[39m.\u001b[39mmaximize_window()\n\u001b[1;32m      9\u001b[0m \u001b[39mprint\u001b[39m(\u001b[39m'\u001b[39m\u001b[39mLoding Successful...!!\u001b[39m\u001b[39m'\u001b[39m)\n\u001b[0;32m---> 10\u001b[0m element \u001b[39m=\u001b[39m WebDriverWait(driver, \u001b[39m10\u001b[39;49m)\u001b[39m.\u001b[39;49muntil(\n\u001b[1;32m     11\u001b[0m     EC\u001b[39m.\u001b[39;49mpresence_of_element_located((By\u001b[39m.\u001b[39;49mCLASS_NAME, \u001b[39m\"\u001b[39;49m\u001b[39mdocs-title-input\u001b[39;49m\u001b[39m\"\u001b[39;49m))\n\u001b[1;32m     12\u001b[0m )\n\u001b[1;32m     13\u001b[0m \u001b[39m# driver.save_screenshot(\"image.png\")\u001b[39;00m\n\u001b[1;32m     14\u001b[0m \u001b[39m# S = lambda X: driver.execute_script('return document.body.parentNode.scroll'+X)\u001b[39;00m\n\u001b[1;32m     15\u001b[0m \u001b[39m# driver.set_window_size(S('Width'), S('Height')) # May need manual adjustment                                                                                                                \u001b[39;00m\n\u001b[1;32m     16\u001b[0m \u001b[39m# driver.find_element_by_tag_name('body').screenshot('web_screenshot.png')\u001b[39;00m\n\u001b[1;32m     18\u001b[0m nextButton \u001b[39m=\u001b[39m driver\u001b[39m.\u001b[39mfind_elements_by_xpath(\u001b[39m'\u001b[39m\u001b[39m//*[@class =\u001b[39m\u001b[39m\"\u001b[39m\u001b[39mhovertip\u001b[39m\u001b[39m\"\u001b[39m\u001b[39m]\u001b[39m\u001b[39m'\u001b[39m)\n",
      "File \u001b[0;32m~/opt/anaconda3/lib/python3.9/site-packages/selenium/webdriver/support/wait.py:89\u001b[0m, in \u001b[0;36mWebDriverWait.until\u001b[0;34m(self, method, message)\u001b[0m\n\u001b[1;32m     87\u001b[0m     \u001b[39mif\u001b[39;00m time\u001b[39m.\u001b[39mmonotonic() \u001b[39m>\u001b[39m end_time:\n\u001b[1;32m     88\u001b[0m         \u001b[39mbreak\u001b[39;00m\n\u001b[0;32m---> 89\u001b[0m \u001b[39mraise\u001b[39;00m TimeoutException(message, screen, stacktrace)\n",
      "\u001b[0;31mTimeoutException\u001b[0m: Message: \nStacktrace:\n0   chromedriver                        0x00000001027b8598 chromedriver + 4973976\n1   chromedriver                        0x00000001027af913 chromedriver + 4938003\n2   chromedriver                        0x000000010236ccd6 chromedriver + 470230\n3   chromedriver                        0x00000001023b02ff chromedriver + 746239\n4   chromedriver                        0x00000001023b0591 chromedriver + 746897\n5   chromedriver                        0x00000001023f2384 chromedriver + 1016708\n6   chromedriver                        0x00000001023d49ed chromedriver + 895469\n7   chromedriver                        0x00000001023ef856 chromedriver + 1005654\n8   chromedriver                        0x00000001023d4793 chromedriver + 894867\n9   chromedriver                        0x00000001023a221f chromedriver + 688671\n10  chromedriver                        0x00000001023a356e chromedriver + 693614\n11  chromedriver                        0x0000000102772bb7 chromedriver + 4688823\n12  chromedriver                        0x0000000102777a51 chromedriver + 4708945\n13  chromedriver                        0x000000010277e40f chromedriver + 4736015\n14  chromedriver                        0x000000010277891a chromedriver + 4712730\n15  chromedriver                        0x000000010274b87c chromedriver + 4528252\n16  chromedriver                        0x0000000102797f28 chromedriver + 4841256\n17  chromedriver                        0x00000001027980a7 chromedriver + 4841639\n18  chromedriver                        0x00000001027a928f chromedriver + 4911759\n19  libsystem_pthread.dylib             0x00007ff812a271d3 _pthread_start + 125\n20  libsystem_pthread.dylib             0x00007ff812a22bd3 thread_start + 15\n"
     ]
    }
   ],
   "source": [
    "def startBot(url):\n",
    "    \n",
    "    options = webdriver.ChromeOptions()\n",
    "    driver = webdriver.Chrome(ChromeDriverManager().install(), options=options)\n",
    "    driver.get(url)\n",
    "    driver.implicitly_wait(15)\n",
    "    driver.maximize_window()\n",
    "\n",
    "    print('Loding Successful...!!')\n",
    "    element = WebDriverWait(driver, 10).until(\n",
    "        EC.presence_of_element_located((By.CLASS_NAME, \"docs-title-input\"))\n",
    "    )\n",
    "    # driver.save_screenshot(\"image.png\")\n",
    "    # S = lambda X: driver.execute_script('return document.body.parentNode.scroll'+X)\n",
    "    # driver.set_window_size(S('Width'), S('Height')) # May need manual adjustment                                                                                                                \n",
    "    # driver.find_element_by_tag_name('body').screenshot('web_screenshot.png')\n",
    "\n",
    "    nextButton = driver.find_elements_by_xpath('//*[@class =\"hovertip\"]')\n",
    "    nextButton[0].click()\n",
    "\n",
    "    driver.implicitly_wait(35)\n",
    "\n",
    "    driver.quit()\n",
    "\n",
    "\n",
    "# Enter below your login credentials\n",
    "# username = \"niloy@sheba.xyz\"\n",
    "# password = \"niloy@shebaDsai\"\n",
    "\n",
    "# URL of the login page of site\n",
    "# which you want to automate login.\n",
    "url = 'https://csrankings.org/#/index?ai&vision&mlmining&us'\n",
    "\n",
    "# Call the function\n",
    "startBot(url)"
   ]
  },
  {
   "cell_type": "code",
   "execution_count": null,
   "metadata": {},
   "outputs": [],
   "source": []
  }
 ],
 "metadata": {
  "kernelspec": {
   "display_name": "base",
   "language": "python",
   "name": "python3"
  },
  "language_info": {
   "codemirror_mode": {
    "name": "ipython",
    "version": 3
   },
   "file_extension": ".py",
   "mimetype": "text/x-python",
   "name": "python",
   "nbconvert_exporter": "python",
   "pygments_lexer": "ipython3",
   "version": "3.9.7"
  },
  "orig_nbformat": 4
 },
 "nbformat": 4,
 "nbformat_minor": 2
}
